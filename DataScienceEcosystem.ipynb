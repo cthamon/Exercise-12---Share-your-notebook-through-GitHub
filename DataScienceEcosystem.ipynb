{
  "metadata": {
    "language_info": {
      "codemirror_mode": {
        "name": "python",
        "version": 3
      },
      "file_extension": ".py",
      "mimetype": "text/x-python",
      "name": "python",
      "nbconvert_exporter": "python",
      "pygments_lexer": "ipython3",
      "version": "3.8"
    },
    "kernelspec": {
      "name": "python",
      "display_name": "Python (Pyodide)",
      "language": "python"
    }
  },
  "nbformat_minor": 4,
  "nbformat": 4,
  "cells": [
    {
      "cell_type": "markdown",
      "source": "Exercise 1: Create a Jupyter Notebook",
      "metadata": {}
    },
    {
      "cell_type": "markdown",
      "source": "Exercise 2: Create markdown cell with title of the notebook",
      "metadata": {}
    },
    {
      "cell_type": "markdown",
      "source": "# Data Science Tools and Ecosystem",
      "metadata": {}
    },
    {
      "cell_type": "markdown",
      "source": "Exercise 3 - Create a markdown cell for an introduction",
      "metadata": {}
    },
    {
      "cell_type": "markdown",
      "source": "In this notebook, Data Science Tools and Ecosystem are summarized.",
      "metadata": {}
    },
    {
      "cell_type": "markdown",
      "source": "Exercise 10 - Insert a markdown cell to list Objectives",
      "metadata": {}
    },
    {
      "cell_type": "markdown",
      "source": "**Objectives:**\n* Some of the popular languages that Data Scientists use\n* Some of the commonly used libraries used by Data Scientists\n* Data Science Tools",
      "metadata": {}
    },
    {
      "cell_type": "markdown",
      "source": "Exercise 4 - Create a markdown cell to list data science languages",
      "metadata": {}
    },
    {
      "cell_type": "markdown",
      "source": "Some of the popular languages that Data Scientists use are:\n1. R\n1. Python\n1. Javascript",
      "metadata": {}
    },
    {
      "cell_type": "markdown",
      "source": "Exercise 5 - Create a markdown cell to list data science libraries",
      "metadata": {}
    },
    {
      "cell_type": "markdown",
      "source": "Some of the commonly used libraries used by Data Scientists include:\n1. Pandas\n1. Matplotlib\n1. Scikit-learn",
      "metadata": {}
    },
    {
      "cell_type": "markdown",
      "source": "Exercise 6 - Create a markdown cell with a table of Data Science tools",
      "metadata": {}
    },
    {
      "cell_type": "markdown",
      "source": "| Data Science Tools | \n| --- | \n| Jupyter Notebooks |\n| R Studio’s |\n| Visual Studio Code |",
      "metadata": {}
    },
    {
      "cell_type": "markdown",
      "source": "Exercise 7 - Create a markdown cell introducing arithmetic expression examples",
      "metadata": {}
    },
    {
      "cell_type": "markdown",
      "source": "### Below are a few examples of evaluating arithmetic expressions in Python",
      "metadata": {}
    },
    {
      "cell_type": "markdown",
      "source": "Exercise 8 - Create a code cell to multiply and add numbers",
      "metadata": {}
    },
    {
      "cell_type": "code",
      "source": "# This a simple arithmetic expression to mutiply then add integers\n(3*4)+5",
      "metadata": {},
      "execution_count": null,
      "outputs": [
        {
          "execution_count": 2,
          "output_type": "execute_result",
          "data": {
            "text/plain": "17"
          },
          "metadata": {}
        }
      ]
    },
    {
      "cell_type": "markdown",
      "source": "Exercise 9 - Create a code cell to convert minutes to hours",
      "metadata": {}
    },
    {
      "cell_type": "code",
      "source": "# this will convert 200 minutes to hours by diving by 60\nminutes = 200\nhours = minutes / 60\nprint(\"%.2f\" % hours, \" hours\")",
      "metadata": {
        "collapsed": true,
        "jupyter": {
          "outputs_hidden": true
        },
        "tags": [],
        "trusted": true
      },
      "execution_count": 20,
      "outputs": [
        {
          "name": "stdout",
          "text": "3.33  hours\n",
          "output_type": "stream"
        }
      ]
    },
    {
      "cell_type": "markdown",
      "source": "Exercise 11 - Create a markdown cell to indicate the Author's name",
      "metadata": {}
    },
    {
      "cell_type": "markdown",
      "source": "## Author\nThamon Chongkwanyuen",
      "metadata": {}
    }
  ]
}